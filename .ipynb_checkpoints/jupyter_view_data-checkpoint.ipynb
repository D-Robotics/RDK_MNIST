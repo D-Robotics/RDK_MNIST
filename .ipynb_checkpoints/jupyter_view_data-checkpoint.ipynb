{
 "cells": [
  {
   "cell_type": "code",
   "execution_count": 1,
   "id": "6dc3f7c1-d273-42ec-811b-dbe9f4f3a084",
   "metadata": {},
   "outputs": [],
   "source": [
    "import matplotlib.pyplot as plt\n",
    "\n",
    "from view_data import read_images, read_labels"
   ]
  },
  {
   "cell_type": "code",
   "execution_count": 2,
   "id": "8a5284fb-3518-4fe5-a19b-71b0d8067a77",
   "metadata": {},
   "outputs": [],
   "source": [
    "train_images_path = \"data/mnist_raw/train-images-idx3-ubyte.gz\"\n",
    "train_labels_path = \"data/mnist_raw/train-labels-idx1-ubyte.gz\"\n",
    "val_images_path = \"data/mnist_raw/t10k-images-idx3-ubyte.gz\"\n",
    "val_labels_path = \"data/mnist_raw/t10k-labels-idx1-ubyte.gz\""
   ]
  },
  {
   "cell_type": "code",
   "execution_count": 3,
   "id": "a9bdc3e3-b040-4285-8f3e-5b95d46051da",
   "metadata": {},
   "outputs": [
    {
     "name": "stdout",
     "output_type": "stream",
     "text": [
      "file: data/mnist_raw/train-images-idx3-ubyte.gz, Magic Number: 2051\n",
      "image nums: 60000, col: 28, row: 28\n",
      "images.shape = (60000, 28, 28)\n",
      "\n",
      "file: data/mnist_raw/train-labels-idx1-ubyte.gz, Magic Number: 2049\n",
      "label nums: 60000\n",
      "label_data.shape = (60000,)\n",
      "\n",
      "file: data/mnist_raw/t10k-images-idx3-ubyte.gz, Magic Number: 2051\n",
      "image nums: 10000, col: 28, row: 28\n",
      "images.shape = (10000, 28, 28)\n",
      "\n",
      "file: data/mnist_raw/t10k-labels-idx1-ubyte.gz, Magic Number: 2049\n",
      "label nums: 10000\n",
      "label_data.shape = (10000,)\n",
      "\n"
     ]
    }
   ],
   "source": [
    "# 读取训练标签\n",
    "train_images = read_images(train_images_path)\n",
    "train_labels = read_labels(train_labels_path)\n",
    "val_images = read_images(val_images_path)\n",
    "val_labels = read_labels(val_labels_path)"
   ]
  },
  {
   "cell_type": "code",
   "execution_count": 4,
   "id": "ad1ca8a3-7418-4266-86bc-2c94df8fc387",
   "metadata": {},
   "outputs": [],
   "source": [
    "i=1"
   ]
  },
  {
   "cell_type": "code",
   "execution_count": 5,
   "id": "d8920a7c-df06-43f2-9a94-8dea7f7d8857",
   "metadata": {},
   "outputs": [
    {
     "name": "stdout",
     "output_type": "stream",
     "text": [
      "0\n"
     ]
    },
    {
     "ename": "NameError",
     "evalue": "name 'plt' is not defined",
     "output_type": "error",
     "traceback": [
      "\u001b[0;31m---------------------------------------------------------------------------\u001b[0m",
      "\u001b[0;31mNameError\u001b[0m                                 Traceback (most recent call last)",
      "Cell \u001b[0;32mIn[5], line 2\u001b[0m\n\u001b[1;32m      1\u001b[0m \u001b[38;5;28mprint\u001b[39m(train_labels[i])\n\u001b[0;32m----> 2\u001b[0m \u001b[43mplt\u001b[49m\u001b[38;5;241m.\u001b[39mimshow(train_images[i])\n\u001b[1;32m      3\u001b[0m i \u001b[38;5;241m+\u001b[39m\u001b[38;5;241m=\u001b[39m \u001b[38;5;241m1\u001b[39m\n",
      "\u001b[0;31mNameError\u001b[0m: name 'plt' is not defined"
     ]
    }
   ],
   "source": [
    "print(train_labels[i])\n",
    "plt.imshow(train_images[i])\n",
    "i += 1"
   ]
  },
  {
   "cell_type": "code",
   "execution_count": 31,
   "id": "f1d91aa5-99dc-43ec-b026-a3815ed757e3",
   "metadata": {},
   "outputs": [],
   "source": []
  },
  {
   "cell_type": "code",
   "execution_count": null,
   "id": "fad0e1b7-1159-43bb-ab66-628b52b74980",
   "metadata": {},
   "outputs": [],
   "source": []
  },
  {
   "cell_type": "code",
   "execution_count": null,
   "id": "f8f536b2-f834-4572-adab-058e326f8b74",
   "metadata": {},
   "outputs": [],
   "source": []
  },
  {
   "cell_type": "code",
   "execution_count": null,
   "id": "226652dc-b009-4764-9379-121f270e4c18",
   "metadata": {},
   "outputs": [],
   "source": []
  },
  {
   "cell_type": "code",
   "execution_count": null,
   "id": "4c59b42c-33bc-4067-82f3-9c6c87cd557a",
   "metadata": {},
   "outputs": [],
   "source": []
  },
  {
   "cell_type": "code",
   "execution_count": null,
   "id": "376d6f84-1e6b-4272-9848-85e7275f745f",
   "metadata": {},
   "outputs": [],
   "source": []
  },
  {
   "cell_type": "code",
   "execution_count": null,
   "id": "79a11723-6cc9-4ba7-be65-ae4cb89dadff",
   "metadata": {},
   "outputs": [],
   "source": []
  }
 ],
 "metadata": {
  "kernelspec": {
   "display_name": "Python 3 (ipykernel)",
   "language": "python",
   "name": "python3"
  },
  "language_info": {
   "codemirror_mode": {
    "name": "ipython",
    "version": 3
   },
   "file_extension": ".py",
   "mimetype": "text/x-python",
   "name": "python",
   "nbconvert_exporter": "python",
   "pygments_lexer": "ipython3",
   "version": "3.12.1"
  }
 },
 "nbformat": 4,
 "nbformat_minor": 5
}
